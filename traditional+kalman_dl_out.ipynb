{
  "nbformat": 4,
  "nbformat_minor": 0,
  "metadata": {
    "colab": {
      "name": "traditional+kalman_dl_out.ipynb",
      "provenance": [],
      "collapsed_sections": []
    },
    "kernelspec": {
      "name": "python3",
      "display_name": "Python 3"
    },
    "language_info": {
      "name": "python"
    }
  },
  "cells": [
    {
      "cell_type": "code",
      "metadata": {
        "id": "nHSesAGPXLWq"
      },
      "source": [
        "import os\n",
        "import time\n",
        "import warnings\n",
        "from numpy import newaxis\n",
        "from keras.layers.core import Dense, Activation, Dropout\n",
        "from keras.layers.recurrent import LSTM\n",
        "from keras.callbacks import TensorBoard\n",
        "from keras import optimizers\n",
        "from keras.models import Sequential, load_model, save_model\n",
        "from keras import backend as K\n",
        "import tensorflow as tf\n",
        "import math\n",
        "import numpy as np\n",
        "import matplotlib\n",
        "import matplotlib.pyplot as plt\n",
        "from itertools import count\n",
        "import pandas as pd\n",
        "from numpy import array\n",
        "# from pykalman import KalmanFilter\n",
        "from numpy import ma\n",
        "global tr_date\n",
        "tr_date = '2015/3/25'\n",
        "##tr_date = '2005/1/7'\n",
        "##tr_date = '2017/1/5'\n",
        "\n",
        "global hist\n",
        "hist = 100"
      ],
      "execution_count": 2,
      "outputs": []
    },
    {
      "cell_type": "code",
      "metadata": {
        "id": "JSAPXGD1XrOr"
      },
      "source": [
        "import requests\n",
        "url = \"https://raw.githubusercontent.com/xiaoa5/stock-technical-analysis/master/000300bis.csv\"\n",
        "r = requests.get(url)\n",
        "\n",
        "with open('000300bis.csv','w') as f:\n",
        "  f.write(r.text)"
      ],
      "execution_count": 5,
      "outputs": []
    },
    {
      "cell_type": "code",
      "metadata": {
        "colab": {
          "resources": {
            "http://localhost:8080/nbextensions/google.colab/files.js": {
              "data": "Ly8gQ29weXJpZ2h0IDIwMTcgR29vZ2xlIExMQwovLwovLyBMaWNlbnNlZCB1bmRlciB0aGUgQXBhY2hlIExpY2Vuc2UsIFZlcnNpb24gMi4wICh0aGUgIkxpY2Vuc2UiKTsKLy8geW91IG1heSBub3QgdXNlIHRoaXMgZmlsZSBleGNlcHQgaW4gY29tcGxpYW5jZSB3aXRoIHRoZSBMaWNlbnNlLgovLyBZb3UgbWF5IG9idGFpbiBhIGNvcHkgb2YgdGhlIExpY2Vuc2UgYXQKLy8KLy8gICAgICBodHRwOi8vd3d3LmFwYWNoZS5vcmcvbGljZW5zZXMvTElDRU5TRS0yLjAKLy8KLy8gVW5sZXNzIHJlcXVpcmVkIGJ5IGFwcGxpY2FibGUgbGF3IG9yIGFncmVlZCB0byBpbiB3cml0aW5nLCBzb2Z0d2FyZQovLyBkaXN0cmlidXRlZCB1bmRlciB0aGUgTGljZW5zZSBpcyBkaXN0cmlidXRlZCBvbiBhbiAiQVMgSVMiIEJBU0lTLAovLyBXSVRIT1VUIFdBUlJBTlRJRVMgT1IgQ09ORElUSU9OUyBPRiBBTlkgS0lORCwgZWl0aGVyIGV4cHJlc3Mgb3IgaW1wbGllZC4KLy8gU2VlIHRoZSBMaWNlbnNlIGZvciB0aGUgc3BlY2lmaWMgbGFuZ3VhZ2UgZ292ZXJuaW5nIHBlcm1pc3Npb25zIGFuZAovLyBsaW1pdGF0aW9ucyB1bmRlciB0aGUgTGljZW5zZS4KCi8qKgogKiBAZmlsZW92ZXJ2aWV3IEhlbHBlcnMgZm9yIGdvb2dsZS5jb2xhYiBQeXRob24gbW9kdWxlLgogKi8KKGZ1bmN0aW9uKHNjb3BlKSB7CmZ1bmN0aW9uIHNwYW4odGV4dCwgc3R5bGVBdHRyaWJ1dGVzID0ge30pIHsKICBjb25zdCBlbGVtZW50ID0gZG9jdW1lbnQuY3JlYXRlRWxlbWVudCgnc3BhbicpOwogIGVsZW1lbnQudGV4dENvbnRlbnQgPSB0ZXh0OwogIGZvciAoY29uc3Qga2V5IG9mIE9iamVjdC5rZXlzKHN0eWxlQXR0cmlidXRlcykpIHsKICAgIGVsZW1lbnQuc3R5bGVba2V5XSA9IHN0eWxlQXR0cmlidXRlc1trZXldOwogIH0KICByZXR1cm4gZWxlbWVudDsKfQoKLy8gTWF4IG51bWJlciBvZiBieXRlcyB3aGljaCB3aWxsIGJlIHVwbG9hZGVkIGF0IGEgdGltZS4KY29uc3QgTUFYX1BBWUxPQURfU0laRSA9IDEwMCAqIDEwMjQ7CgpmdW5jdGlvbiBfdXBsb2FkRmlsZXMoaW5wdXRJZCwgb3V0cHV0SWQpIHsKICBjb25zdCBzdGVwcyA9IHVwbG9hZEZpbGVzU3RlcChpbnB1dElkLCBvdXRwdXRJZCk7CiAgY29uc3Qgb3V0cHV0RWxlbWVudCA9IGRvY3VtZW50LmdldEVsZW1lbnRCeUlkKG91dHB1dElkKTsKICAvLyBDYWNoZSBzdGVwcyBvbiB0aGUgb3V0cHV0RWxlbWVudCB0byBtYWtlIGl0IGF2YWlsYWJsZSBmb3IgdGhlIG5leHQgY2FsbAogIC8vIHRvIHVwbG9hZEZpbGVzQ29udGludWUgZnJvbSBQeXRob24uCiAgb3V0cHV0RWxlbWVudC5zdGVwcyA9IHN0ZXBzOwoKICByZXR1cm4gX3VwbG9hZEZpbGVzQ29udGludWUob3V0cHV0SWQpOwp9CgovLyBUaGlzIGlzIHJvdWdobHkgYW4gYXN5bmMgZ2VuZXJhdG9yIChub3Qgc3VwcG9ydGVkIGluIHRoZSBicm93c2VyIHlldCksCi8vIHdoZXJlIHRoZXJlIGFyZSBtdWx0aXBsZSBhc3luY2hyb25vdXMgc3RlcHMgYW5kIHRoZSBQeXRob24gc2lkZSBpcyBnb2luZwovLyB0byBwb2xsIGZvciBjb21wbGV0aW9uIG9mIGVhY2ggc3RlcC4KLy8gVGhpcyB1c2VzIGEgUHJvbWlzZSB0byBibG9jayB0aGUgcHl0aG9uIHNpZGUgb24gY29tcGxldGlvbiBvZiBlYWNoIHN0ZXAsCi8vIHRoZW4gcGFzc2VzIHRoZSByZXN1bHQgb2YgdGhlIHByZXZpb3VzIHN0ZXAgYXMgdGhlIGlucHV0IHRvIHRoZSBuZXh0IHN0ZXAuCmZ1bmN0aW9uIF91cGxvYWRGaWxlc0NvbnRpbnVlKG91dHB1dElkKSB7CiAgY29uc3Qgb3V0cHV0RWxlbWVudCA9IGRvY3VtZW50LmdldEVsZW1lbnRCeUlkKG91dHB1dElkKTsKICBjb25zdCBzdGVwcyA9IG91dHB1dEVsZW1lbnQuc3RlcHM7CgogIGNvbnN0IG5leHQgPSBzdGVwcy5uZXh0KG91dHB1dEVsZW1lbnQubGFzdFByb21pc2VWYWx1ZSk7CiAgcmV0dXJuIFByb21pc2UucmVzb2x2ZShuZXh0LnZhbHVlLnByb21pc2UpLnRoZW4oKHZhbHVlKSA9PiB7CiAgICAvLyBDYWNoZSB0aGUgbGFzdCBwcm9taXNlIHZhbHVlIHRvIG1ha2UgaXQgYXZhaWxhYmxlIHRvIHRoZSBuZXh0CiAgICAvLyBzdGVwIG9mIHRoZSBnZW5lcmF0b3IuCiAgICBvdXRwdXRFbGVtZW50Lmxhc3RQcm9taXNlVmFsdWUgPSB2YWx1ZTsKICAgIHJldHVybiBuZXh0LnZhbHVlLnJlc3BvbnNlOwogIH0pOwp9CgovKioKICogR2VuZXJhdG9yIGZ1bmN0aW9uIHdoaWNoIGlzIGNhbGxlZCBiZXR3ZWVuIGVhY2ggYXN5bmMgc3RlcCBvZiB0aGUgdXBsb2FkCiAqIHByb2Nlc3MuCiAqIEBwYXJhbSB7c3RyaW5nfSBpbnB1dElkIEVsZW1lbnQgSUQgb2YgdGhlIGlucHV0IGZpbGUgcGlja2VyIGVsZW1lbnQuCiAqIEBwYXJhbSB7c3RyaW5nfSBvdXRwdXRJZCBFbGVtZW50IElEIG9mIHRoZSBvdXRwdXQgZGlzcGxheS4KICogQHJldHVybiB7IUl0ZXJhYmxlPCFPYmplY3Q+fSBJdGVyYWJsZSBvZiBuZXh0IHN0ZXBzLgogKi8KZnVuY3Rpb24qIHVwbG9hZEZpbGVzU3RlcChpbnB1dElkLCBvdXRwdXRJZCkgewogIGNvbnN0IGlucHV0RWxlbWVudCA9IGRvY3VtZW50LmdldEVsZW1lbnRCeUlkKGlucHV0SWQpOwogIGlucHV0RWxlbWVudC5kaXNhYmxlZCA9IGZhbHNlOwoKICBjb25zdCBvdXRwdXRFbGVtZW50ID0gZG9jdW1lbnQuZ2V0RWxlbWVudEJ5SWQob3V0cHV0SWQpOwogIG91dHB1dEVsZW1lbnQuaW5uZXJIVE1MID0gJyc7CgogIGNvbnN0IHBpY2tlZFByb21pc2UgPSBuZXcgUHJvbWlzZSgocmVzb2x2ZSkgPT4gewogICAgaW5wdXRFbGVtZW50LmFkZEV2ZW50TGlzdGVuZXIoJ2NoYW5nZScsIChlKSA9PiB7CiAgICAgIHJlc29sdmUoZS50YXJnZXQuZmlsZXMpOwogICAgfSk7CiAgfSk7CgogIGNvbnN0IGNhbmNlbCA9IGRvY3VtZW50LmNyZWF0ZUVsZW1lbnQoJ2J1dHRvbicpOwogIGlucHV0RWxlbWVudC5wYXJlbnRFbGVtZW50LmFwcGVuZENoaWxkKGNhbmNlbCk7CiAgY2FuY2VsLnRleHRDb250ZW50ID0gJ0NhbmNlbCB1cGxvYWQnOwogIGNvbnN0IGNhbmNlbFByb21pc2UgPSBuZXcgUHJvbWlzZSgocmVzb2x2ZSkgPT4gewogICAgY2FuY2VsLm9uY2xpY2sgPSAoKSA9PiB7CiAgICAgIHJlc29sdmUobnVsbCk7CiAgICB9OwogIH0pOwoKICAvLyBXYWl0IGZvciB0aGUgdXNlciB0byBwaWNrIHRoZSBmaWxlcy4KICBjb25zdCBmaWxlcyA9IHlpZWxkIHsKICAgIHByb21pc2U6IFByb21pc2UucmFjZShbcGlja2VkUHJvbWlzZSwgY2FuY2VsUHJvbWlzZV0pLAogICAgcmVzcG9uc2U6IHsKICAgICAgYWN0aW9uOiAnc3RhcnRpbmcnLAogICAgfQogIH07CgogIGNhbmNlbC5yZW1vdmUoKTsKCiAgLy8gRGlzYWJsZSB0aGUgaW5wdXQgZWxlbWVudCBzaW5jZSBmdXJ0aGVyIHBpY2tzIGFyZSBub3QgYWxsb3dlZC4KICBpbnB1dEVsZW1lbnQuZGlzYWJsZWQgPSB0cnVlOwoKICBpZiAoIWZpbGVzKSB7CiAgICByZXR1cm4gewogICAgICByZXNwb25zZTogewogICAgICAgIGFjdGlvbjogJ2NvbXBsZXRlJywKICAgICAgfQogICAgfTsKICB9CgogIGZvciAoY29uc3QgZmlsZSBvZiBmaWxlcykgewogICAgY29uc3QgbGkgPSBkb2N1bWVudC5jcmVhdGVFbGVtZW50KCdsaScpOwogICAgbGkuYXBwZW5kKHNwYW4oZmlsZS5uYW1lLCB7Zm9udFdlaWdodDogJ2JvbGQnfSkpOwogICAgbGkuYXBwZW5kKHNwYW4oCiAgICAgICAgYCgke2ZpbGUudHlwZSB8fCAnbi9hJ30pIC0gJHtmaWxlLnNpemV9IGJ5dGVzLCBgICsKICAgICAgICBgbGFzdCBtb2RpZmllZDogJHsKICAgICAgICAgICAgZmlsZS5sYXN0TW9kaWZpZWREYXRlID8gZmlsZS5sYXN0TW9kaWZpZWREYXRlLnRvTG9jYWxlRGF0ZVN0cmluZygpIDoKICAgICAgICAgICAgICAgICAgICAgICAgICAgICAgICAgICAgJ24vYSd9IC0gYCkpOwogICAgY29uc3QgcGVyY2VudCA9IHNwYW4oJzAlIGRvbmUnKTsKICAgIGxpLmFwcGVuZENoaWxkKHBlcmNlbnQpOwoKICAgIG91dHB1dEVsZW1lbnQuYXBwZW5kQ2hpbGQobGkpOwoKICAgIGNvbnN0IGZpbGVEYXRhUHJvbWlzZSA9IG5ldyBQcm9taXNlKChyZXNvbHZlKSA9PiB7CiAgICAgIGNvbnN0IHJlYWRlciA9IG5ldyBGaWxlUmVhZGVyKCk7CiAgICAgIHJlYWRlci5vbmxvYWQgPSAoZSkgPT4gewogICAgICAgIHJlc29sdmUoZS50YXJnZXQucmVzdWx0KTsKICAgICAgfTsKICAgICAgcmVhZGVyLnJlYWRBc0FycmF5QnVmZmVyKGZpbGUpOwogICAgfSk7CiAgICAvLyBXYWl0IGZvciB0aGUgZGF0YSB0byBiZSByZWFkeS4KICAgIGxldCBmaWxlRGF0YSA9IHlpZWxkIHsKICAgICAgcHJvbWlzZTogZmlsZURhdGFQcm9taXNlLAogICAgICByZXNwb25zZTogewogICAgICAgIGFjdGlvbjogJ2NvbnRpbnVlJywKICAgICAgfQogICAgfTsKCiAgICAvLyBVc2UgYSBjaHVua2VkIHNlbmRpbmcgdG8gYXZvaWQgbWVzc2FnZSBzaXplIGxpbWl0cy4gU2VlIGIvNjIxMTU2NjAuCiAgICBsZXQgcG9zaXRpb24gPSAwOwogICAgd2hpbGUgKHBvc2l0aW9uIDwgZmlsZURhdGEuYnl0ZUxlbmd0aCkgewogICAgICBjb25zdCBsZW5ndGggPSBNYXRoLm1pbihmaWxlRGF0YS5ieXRlTGVuZ3RoIC0gcG9zaXRpb24sIE1BWF9QQVlMT0FEX1NJWkUpOwogICAgICBjb25zdCBjaHVuayA9IG5ldyBVaW50OEFycmF5KGZpbGVEYXRhLCBwb3NpdGlvbiwgbGVuZ3RoKTsKICAgICAgcG9zaXRpb24gKz0gbGVuZ3RoOwoKICAgICAgY29uc3QgYmFzZTY0ID0gYnRvYShTdHJpbmcuZnJvbUNoYXJDb2RlLmFwcGx5KG51bGwsIGNodW5rKSk7CiAgICAgIHlpZWxkIHsKICAgICAgICByZXNwb25zZTogewogICAgICAgICAgYWN0aW9uOiAnYXBwZW5kJywKICAgICAgICAgIGZpbGU6IGZpbGUubmFtZSwKICAgICAgICAgIGRhdGE6IGJhc2U2NCwKICAgICAgICB9LAogICAgICB9OwogICAgICBwZXJjZW50LnRleHRDb250ZW50ID0KICAgICAgICAgIGAke01hdGgucm91bmQoKHBvc2l0aW9uIC8gZmlsZURhdGEuYnl0ZUxlbmd0aCkgKiAxMDApfSUgZG9uZWA7CiAgICB9CiAgfQoKICAvLyBBbGwgZG9uZS4KICB5aWVsZCB7CiAgICByZXNwb25zZTogewogICAgICBhY3Rpb246ICdjb21wbGV0ZScsCiAgICB9CiAgfTsKfQoKc2NvcGUuZ29vZ2xlID0gc2NvcGUuZ29vZ2xlIHx8IHt9OwpzY29wZS5nb29nbGUuY29sYWIgPSBzY29wZS5nb29nbGUuY29sYWIgfHwge307CnNjb3BlLmdvb2dsZS5jb2xhYi5fZmlsZXMgPSB7CiAgX3VwbG9hZEZpbGVzLAogIF91cGxvYWRGaWxlc0NvbnRpbnVlLAp9Owp9KShzZWxmKTsK",
              "ok": true,
              "headers": [
                [
                  "content-type",
                  "application/javascript"
                ]
              ],
              "status": 200,
              "status_text": ""
            }
          },
          "base_uri": "https://localhost:8080/",
          "height": 89
        },
        "id": "FsJw7m9lYVz1",
        "outputId": "18ed147b-5ea8-4f5b-a033-4227a5e8a0fd"
      },
      "source": [
        "from google.colab import files\n",
        "# files.upload()\n",
        "src = list(files.upload().values())[0]\n",
        "open('my_test1.keras','wb').write(src)"
      ],
      "execution_count": 3,
      "outputs": [
        {
          "output_type": "display_data",
          "data": {
            "text/html": [
              "\n",
              "     <input type=\"file\" id=\"files-61a93e8f-31bc-4439-b1ab-511019e1074a\" name=\"files[]\" multiple disabled\n",
              "        style=\"border:none\" />\n",
              "     <output id=\"result-61a93e8f-31bc-4439-b1ab-511019e1074a\">\n",
              "      Upload widget is only available when the cell has been executed in the\n",
              "      current browser session. Please rerun this cell to enable.\n",
              "      </output>\n",
              "      <script src=\"/nbextensions/google.colab/files.js\"></script> "
            ],
            "text/plain": [
              "<IPython.core.display.HTML object>"
            ]
          },
          "metadata": {
            "tags": []
          }
        },
        {
          "output_type": "stream",
          "text": [
            "Saving my_test1.keras to my_test1.keras\n"
          ],
          "name": "stdout"
        },
        {
          "output_type": "execute_result",
          "data": {
            "text/plain": [
              "44776"
            ]
          },
          "metadata": {
            "tags": []
          },
          "execution_count": 3
        }
      ]
    },
    {
      "cell_type": "code",
      "metadata": {
        "id": "Ql3vPDNUalil"
      },
      "source": [
        "model = load_model('my_test1.keras')"
      ],
      "execution_count": 16,
      "outputs": []
    },
    {
      "cell_type": "code",
      "metadata": {
        "id": "IqlmWZb6YtmD"
      },
      "source": [
        "name='300'\n",
        "stock_fath = '000'+name+'bis.csv'\n",
        "# kf = KalmanFilter(transition_matrices = [1],\n",
        "#                   observation_matrices = [1],\n",
        "#                   initial_state_mean = 0,\n",
        "#                   initial_state_covariance = 1,\n",
        "#                   observation_covariance=1,\n",
        "#                   transition_covariance=.01)\n",
        "df = pd.read_csv(stock_fath, parse_dates=True)\n",
        "def load_csv_data(df,col):  \n",
        "    data_pandas = df[col]\n",
        "    data = data_pandas .to_numpy()\n",
        "    result = data\n",
        "    return result\n",
        "\n",
        "def normalise_windows(window_data):\n",
        "    \n",
        "    normalised_window = [((float(p) / float(window_data[0])) - 1) for p in window_data]\n",
        "        \n",
        "    return array(normalised_window)"
      ],
      "execution_count": 13,
      "outputs": []
    },
    {
      "cell_type": "code",
      "metadata": {
        "id": "Buh45TDLZan5"
      },
      "source": [
        "class stock_env:\n",
        "    def __init__(self):\n",
        "        print (\"init\")\n",
        "        self.price1 = load_csv_data(df,'close')\n",
        "        self.price2 = load_csv_data(df,'open')\n",
        "        # self.kalman,_ = kf.filter(self.price1)\n",
        "    \n",
        "        self.dates = df['date']\n",
        "        self.hist = hist\n",
        "        self.test_episode = len(self.price1) - self.hist - 2\n",
        "        self.train_done = False\n",
        "        self.test_done = False\n",
        "        self.budget = 10000\n",
        "        self.num_stocks = 0\n",
        "        self.tr = 50/100000   #25\n",
        "\n",
        "       \n",
        "    def reset(self):   \n",
        "        global steps_done\n",
        "        steps_done = 0\n",
        "        self.budget = 10000\n",
        "        self.num_stocks = 0\n",
        "        self.train_done = False\n",
        "        self.test_done = False\n",
        "        \n",
        "        state =self.price1[steps_done:steps_done+self.hist]\n",
        "        # kal = float(self.kalman[steps_done+self.hist+1])\n",
        "        return state\n",
        "\n",
        "    def step(self, action): \n",
        "        global steps_done\n",
        "        steps_done += 1\n",
        "\n",
        "        if steps_done > self.test_episode:\n",
        "            self.test_done = True\n",
        "        \n",
        "\n",
        "        pre_price = float(self.price2[steps_done + self.hist-1+1])\n",
        "        # pre_kal = float(self.kalman[steps_done+self.hist-1+1])\n",
        "        pre_portfolio = self.budget + self.num_stocks * pre_price\n",
        "        pre_date = self.dates[steps_done + self.hist-1+1]\n",
        "        if action == 0 and pre_price >0: #buy\n",
        "                    \n",
        "            while self.budget >= pre_price*(1+self.tr):           \n",
        "                self.budget -= pre_price *(1+self.tr)\n",
        "                self.num_stocks += 1\n",
        "        elif action == 1 and pre_price >0:       #sell\n",
        "           \n",
        "            while self.num_stocks > 0:       \n",
        "                self.budget += pre_price*(1-self.tr)\n",
        "                self.num_stocks -= 1\n",
        "        else:\n",
        "            pass\n",
        "\n",
        "        try:\n",
        "\n",
        "            state = self.price1[steps_done:steps_done+self.hist]\n",
        "            price = float(self.price2[steps_done + self.hist+1])\n",
        "            # kal = float(self.kalman[steps_done+self.hist+1])\n",
        "            portfolio = self.budget + self.num_stocks * price\n",
        "            date = self.dates[steps_done + self.hist+1]\n",
        "            if date == tr_date:\n",
        "                self.train_done = True\n",
        "\n",
        "        except:\n",
        "            pass\n",
        "        return (state,self.train_done,self.test_done,pre_price,pre_portfolio,pre_date) #,pre_kal)"
      ],
      "execution_count": 10,
      "outputs": []
    },
    {
      "cell_type": "code",
      "metadata": {
        "id": "50bckOMsZrsb"
      },
      "source": [
        "def select_action(state):\n",
        "    \n",
        "    state1 = state.copy()\n",
        "    m1 = state1[-1]\n",
        "    m80 = normalise_windows(state1[-80:])\n",
        "    data = np.reshape(m80,(1,80,1))\n",
        "    \n",
        "    predicted = model.predict(data)\n",
        "    predict_price = (predicted[0][0] +1)*state1[-80]\n",
        "    \n",
        "    m5 = state1[-5:].mean()\n",
        "    m10 = state1[-10:].mean()\n",
        "    m13 = state1[-13:].mean()\n",
        "    m20 = state1[-20:].mean()\n",
        "    m30 = state1[-30:].mean()\n",
        "    m60 = state1[-60:].mean()\n",
        "\n",
        "\n",
        "    try:\n",
        "\n",
        "        if predict_price > m30:\n",
        "            idx = 0\n",
        "        else:\n",
        "            idx = 1\n",
        "    except:\n",
        "        idx = 1\n",
        "    \n",
        "    \n",
        "    return idx\n"
      ],
      "execution_count": 11,
      "outputs": []
    },
    {
      "cell_type": "code",
      "metadata": {
        "colab": {
          "base_uri": "https://localhost:8080/"
        },
        "id": "8e6_mCbGZ9y0",
        "outputId": "611aded2-6468-4272-8d75-85a0c01ecd3c"
      },
      "source": [
        "env = stock_env()\n",
        "\n",
        "results = []\n",
        "profits = []\n",
        "\n",
        "benchresults = []\n",
        "dates = []\n",
        "colors = []\n"
      ],
      "execution_count": 14,
      "outputs": [
        {
          "output_type": "stream",
          "text": [
            "init\n"
          ],
          "name": "stdout"
        }
      ]
    },
    {
      "cell_type": "code",
      "metadata": {
        "id": "1cn3KSOJaSSd"
      },
      "source": [
        "# Initialize the environment and state\n",
        "state = env.reset()\n",
        "tr_done = False\n",
        "ts_done = False\n",
        "record = False\n",
        "\n",
        "for t in count(1):    \n",
        "    action = select_action(state) \n",
        "    if action == 0: #buy\n",
        "        color = 1.0\n",
        "    else :\n",
        "        color = 0.0\n",
        "    next_state,  tr_done, ts_done,price,portfolio,date = env.step(action)\n",
        "    if t == 0:\n",
        "        zero_portfolio = portfolio\n",
        "        zero_value = price\n",
        "    if date == tr_date:\n",
        "        ref_portfolio = portfolio\n",
        "        ref_value = price\n",
        "        record = True\n",
        "    if record is True:            \n",
        "        tt = ref_portfolio * price/ref_value        \n",
        "        results.append(portfolio)\n",
        "        benchresults.append(tt)\n",
        "        dates.append(date)\n",
        "        colors.append(color)           \n",
        "    if ts_done:\n",
        "        action = select_action(next_state)\n",
        "        if action == 0: #buy\n",
        "            advise = 'Buy'\n",
        "        else :\n",
        "            advise = 'Sell'\n",
        "        break\n",
        "            \n",
        "    state = next_state"
      ],
      "execution_count": 17,
      "outputs": []
    },
    {
      "cell_type": "code",
      "metadata": {
        "colab": {
          "base_uri": "https://localhost:8080/",
          "height": 298
        },
        "id": "F0Dj4A3oa8g7",
        "outputId": "3290fd67-5973-4849-ccbc-9646c0a5db08"
      },
      "source": [
        "import matplotlib.cm as cm       \n",
        "dates = pd.to_datetime(dates)\n",
        "ax1 = plt.subplot2grid((20,1), (0,0), rowspan=18, colspan=1)\n",
        "##ax1.set_yscale(\"log\")\n",
        "plt.title('U could '+advise+' 000'+name+'.SH at next opening.')\n",
        "plt.ylabel('Portfolio ')\n",
        "\n",
        "plt.grid(True)\n",
        "ax2 = plt.subplot2grid((20,1), (19,0), rowspan=1, colspan=1, sharex=ax1)\n",
        "plt.ylabel('Long') \n",
        "plt.grid(True)\n",
        "\n",
        "ax1.plot(dates, benchresults, 'grey',label='benchmark')   \n",
        "ax1.plot(dates, results, 'red',label='agent')   \n",
        "\n",
        "ax2.fill_between(dates, colors, 0)\n",
        "\n",
        "plt.show()\n",
        "\n",
        "print('Complete : next opening U should', advise)"
      ],
      "execution_count": 18,
      "outputs": [
        {
          "output_type": "display_data",
          "data": {
            "image/png": "[encoded data removed]",
            "text/plain": [
              "<Figure size 432x288 with 2 Axes>"
            ]
          },
          "metadata": {
            "tags": [],
            "needs_background": "light"
          }
        },
        {
          "output_type": "stream",
          "text": [
            "Complete : next opening U should Sell\n"
          ],
          "name": "stdout"
        }
      ]
    }
  ]
}